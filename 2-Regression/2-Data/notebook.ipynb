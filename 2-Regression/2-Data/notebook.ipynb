{
 "metadata": {
  "language_info": {
   "codemirror_mode": {
    "name": "ipython",
    "version": 3
   },
   "file_extension": ".py",
   "mimetype": "text/x-python",
   "name": "python",
   "nbconvert_exporter": "python",
   "pygments_lexer": "ipython3",
   "version": "3.8.3-final"
  },
  "orig_nbformat": 2,
  "kernelspec": {
   "name": "python3",
   "display_name": "Python 3",
   "language": "python"
  }
 },
 "nbformat": 4,
 "nbformat_minor": 2,
 "cells": [
  {
   "cell_type": "code",
   "metadata": {
    "ExecuteTime": {
     "end_time": "2025-05-11T14:58:26.282050Z",
     "start_time": "2025-05-11T14:58:26.065107Z"
    }
   },
   "source": [
    "import pandas as pd\n",
    "\n",
    "# Read data file\n",
    "pumpkins = pd.read_csv(\"../data/US-pumpkins.csv\")\n",
    "\n",
    "# Filter out any rows that don't use price per bushel\n",
    "pumpkins = pumpkins[pumpkins['Package'].str.contains('bushel', case=True, regex=True)]\n",
    "pumpkins.head()"
   ],
   "outputs": [
    {
     "data": {
      "text/plain": [
       "    City Name Type               Package   Variety Sub Variety  Grade  \\\n",
       "70  BALTIMORE  NaN  1 1/9 bushel cartons  PIE TYPE         NaN    NaN   \n",
       "71  BALTIMORE  NaN  1 1/9 bushel cartons  PIE TYPE         NaN    NaN   \n",
       "72  BALTIMORE  NaN  1 1/9 bushel cartons  PIE TYPE         NaN    NaN   \n",
       "73  BALTIMORE  NaN  1 1/9 bushel cartons  PIE TYPE         NaN    NaN   \n",
       "74  BALTIMORE  NaN  1 1/9 bushel cartons  PIE TYPE         NaN    NaN   \n",
       "\n",
       "       Date  Low Price  High Price  Mostly Low  ...  Unit of Sale Quality  \\\n",
       "70  9/24/16       15.0        15.0        15.0  ...           NaN     NaN   \n",
       "71  9/24/16       18.0        18.0        18.0  ...           NaN     NaN   \n",
       "72  10/1/16       18.0        18.0        18.0  ...           NaN     NaN   \n",
       "73  10/1/16       17.0        17.0        17.0  ...           NaN     NaN   \n",
       "74  10/8/16       15.0        15.0        15.0  ...           NaN     NaN   \n",
       "\n",
       "   Condition Appearance Storage  Crop Repack  Trans Mode  Unnamed: 24  \\\n",
       "70       NaN        NaN     NaN   NaN      N         NaN          NaN   \n",
       "71       NaN        NaN     NaN   NaN      N         NaN          NaN   \n",
       "72       NaN        NaN     NaN   NaN      N         NaN          NaN   \n",
       "73       NaN        NaN     NaN   NaN      N         NaN          NaN   \n",
       "74       NaN        NaN     NaN   NaN      N         NaN          NaN   \n",
       "\n",
       "    Unnamed: 25  \n",
       "70          NaN  \n",
       "71          NaN  \n",
       "72          NaN  \n",
       "73          NaN  \n",
       "74          NaN  \n",
       "\n",
       "[5 rows x 26 columns]"
      ],
      "text/html": [
       "<div>\n",
       "<style scoped>\n",
       "    .dataframe tbody tr th:only-of-type {\n",
       "        vertical-align: middle;\n",
       "    }\n",
       "\n",
       "    .dataframe tbody tr th {\n",
       "        vertical-align: top;\n",
       "    }\n",
       "\n",
       "    .dataframe thead th {\n",
       "        text-align: right;\n",
       "    }\n",
       "</style>\n",
       "<table border=\"1\" class=\"dataframe\">\n",
       "  <thead>\n",
       "    <tr style=\"text-align: right;\">\n",
       "      <th></th>\n",
       "      <th>City Name</th>\n",
       "      <th>Type</th>\n",
       "      <th>Package</th>\n",
       "      <th>Variety</th>\n",
       "      <th>Sub Variety</th>\n",
       "      <th>Grade</th>\n",
       "      <th>Date</th>\n",
       "      <th>Low Price</th>\n",
       "      <th>High Price</th>\n",
       "      <th>Mostly Low</th>\n",
       "      <th>...</th>\n",
       "      <th>Unit of Sale</th>\n",
       "      <th>Quality</th>\n",
       "      <th>Condition</th>\n",
       "      <th>Appearance</th>\n",
       "      <th>Storage</th>\n",
       "      <th>Crop</th>\n",
       "      <th>Repack</th>\n",
       "      <th>Trans Mode</th>\n",
       "      <th>Unnamed: 24</th>\n",
       "      <th>Unnamed: 25</th>\n",
       "    </tr>\n",
       "  </thead>\n",
       "  <tbody>\n",
       "    <tr>\n",
       "      <th>70</th>\n",
       "      <td>BALTIMORE</td>\n",
       "      <td>NaN</td>\n",
       "      <td>1 1/9 bushel cartons</td>\n",
       "      <td>PIE TYPE</td>\n",
       "      <td>NaN</td>\n",
       "      <td>NaN</td>\n",
       "      <td>9/24/16</td>\n",
       "      <td>15.0</td>\n",
       "      <td>15.0</td>\n",
       "      <td>15.0</td>\n",
       "      <td>...</td>\n",
       "      <td>NaN</td>\n",
       "      <td>NaN</td>\n",
       "      <td>NaN</td>\n",
       "      <td>NaN</td>\n",
       "      <td>NaN</td>\n",
       "      <td>NaN</td>\n",
       "      <td>N</td>\n",
       "      <td>NaN</td>\n",
       "      <td>NaN</td>\n",
       "      <td>NaN</td>\n",
       "    </tr>\n",
       "    <tr>\n",
       "      <th>71</th>\n",
       "      <td>BALTIMORE</td>\n",
       "      <td>NaN</td>\n",
       "      <td>1 1/9 bushel cartons</td>\n",
       "      <td>PIE TYPE</td>\n",
       "      <td>NaN</td>\n",
       "      <td>NaN</td>\n",
       "      <td>9/24/16</td>\n",
       "      <td>18.0</td>\n",
       "      <td>18.0</td>\n",
       "      <td>18.0</td>\n",
       "      <td>...</td>\n",
       "      <td>NaN</td>\n",
       "      <td>NaN</td>\n",
       "      <td>NaN</td>\n",
       "      <td>NaN</td>\n",
       "      <td>NaN</td>\n",
       "      <td>NaN</td>\n",
       "      <td>N</td>\n",
       "      <td>NaN</td>\n",
       "      <td>NaN</td>\n",
       "      <td>NaN</td>\n",
       "    </tr>\n",
       "    <tr>\n",
       "      <th>72</th>\n",
       "      <td>BALTIMORE</td>\n",
       "      <td>NaN</td>\n",
       "      <td>1 1/9 bushel cartons</td>\n",
       "      <td>PIE TYPE</td>\n",
       "      <td>NaN</td>\n",
       "      <td>NaN</td>\n",
       "      <td>10/1/16</td>\n",
       "      <td>18.0</td>\n",
       "      <td>18.0</td>\n",
       "      <td>18.0</td>\n",
       "      <td>...</td>\n",
       "      <td>NaN</td>\n",
       "      <td>NaN</td>\n",
       "      <td>NaN</td>\n",
       "      <td>NaN</td>\n",
       "      <td>NaN</td>\n",
       "      <td>NaN</td>\n",
       "      <td>N</td>\n",
       "      <td>NaN</td>\n",
       "      <td>NaN</td>\n",
       "      <td>NaN</td>\n",
       "    </tr>\n",
       "    <tr>\n",
       "      <th>73</th>\n",
       "      <td>BALTIMORE</td>\n",
       "      <td>NaN</td>\n",
       "      <td>1 1/9 bushel cartons</td>\n",
       "      <td>PIE TYPE</td>\n",
       "      <td>NaN</td>\n",
       "      <td>NaN</td>\n",
       "      <td>10/1/16</td>\n",
       "      <td>17.0</td>\n",
       "      <td>17.0</td>\n",
       "      <td>17.0</td>\n",
       "      <td>...</td>\n",
       "      <td>NaN</td>\n",
       "      <td>NaN</td>\n",
       "      <td>NaN</td>\n",
       "      <td>NaN</td>\n",
       "      <td>NaN</td>\n",
       "      <td>NaN</td>\n",
       "      <td>N</td>\n",
       "      <td>NaN</td>\n",
       "      <td>NaN</td>\n",
       "      <td>NaN</td>\n",
       "    </tr>\n",
       "    <tr>\n",
       "      <th>74</th>\n",
       "      <td>BALTIMORE</td>\n",
       "      <td>NaN</td>\n",
       "      <td>1 1/9 bushel cartons</td>\n",
       "      <td>PIE TYPE</td>\n",
       "      <td>NaN</td>\n",
       "      <td>NaN</td>\n",
       "      <td>10/8/16</td>\n",
       "      <td>15.0</td>\n",
       "      <td>15.0</td>\n",
       "      <td>15.0</td>\n",
       "      <td>...</td>\n",
       "      <td>NaN</td>\n",
       "      <td>NaN</td>\n",
       "      <td>NaN</td>\n",
       "      <td>NaN</td>\n",
       "      <td>NaN</td>\n",
       "      <td>NaN</td>\n",
       "      <td>N</td>\n",
       "      <td>NaN</td>\n",
       "      <td>NaN</td>\n",
       "      <td>NaN</td>\n",
       "    </tr>\n",
       "  </tbody>\n",
       "</table>\n",
       "<p>5 rows × 26 columns</p>\n",
       "</div>"
      ]
     },
     "execution_count": 1,
     "metadata": {},
     "output_type": "execute_result"
    }
   ],
   "execution_count": 1
  },
  {
   "metadata": {
    "ExecuteTime": {
     "end_time": "2025-05-11T14:58:26.438926Z",
     "start_time": "2025-05-11T14:58:26.433508Z"
    }
   },
   "cell_type": "code",
   "source": [
    "# Count how many cell in each columns are empty\n",
    "pumpkins.isnull().sum()"
   ],
   "outputs": [
    {
     "data": {
      "text/plain": [
       "City Name            0\n",
       "Type               406\n",
       "Package              0\n",
       "Variety              0\n",
       "Sub Variety        167\n",
       "Grade              415\n",
       "Date                 0\n",
       "Low Price            0\n",
       "High Price           0\n",
       "Mostly Low          24\n",
       "Mostly High         24\n",
       "Origin               0\n",
       "Origin District    396\n",
       "Item Size          114\n",
       "Color              145\n",
       "Environment        415\n",
       "Unit of Sale       404\n",
       "Quality            415\n",
       "Condition          415\n",
       "Appearance         415\n",
       "Storage            415\n",
       "Crop               415\n",
       "Repack               0\n",
       "Trans Mode         415\n",
       "Unnamed: 24        415\n",
       "Unnamed: 25        391\n",
       "dtype: int64"
      ]
     },
     "execution_count": 2,
     "metadata": {},
     "output_type": "execute_result"
    }
   ],
   "execution_count": 2
  },
  {
   "metadata": {
    "ExecuteTime": {
     "end_time": "2025-05-11T14:58:26.665375Z",
     "start_time": "2025-05-11T14:58:26.654680Z"
    }
   },
   "cell_type": "code",
   "source": [
    "# Keep only columns that are relevant to this ML model\n",
    "new_columns = [\"Package\", \"Date\", \"Low Price\", \"High Price\", \"Month\"]\n",
    "\n",
    "pumpkins = pumpkins.drop([col for col in pumpkins.columns if col not in new_columns], axis=1)\n",
    "pumpkins.head()"
   ],
   "outputs": [
    {
     "data": {
      "text/plain": [
       "                 Package     Date  Low Price  High Price\n",
       "70  1 1/9 bushel cartons  9/24/16       15.0        15.0\n",
       "71  1 1/9 bushel cartons  9/24/16       18.0        18.0\n",
       "72  1 1/9 bushel cartons  10/1/16       18.0        18.0\n",
       "73  1 1/9 bushel cartons  10/1/16       17.0        17.0\n",
       "74  1 1/9 bushel cartons  10/8/16       15.0        15.0"
      ],
      "text/html": [
       "<div>\n",
       "<style scoped>\n",
       "    .dataframe tbody tr th:only-of-type {\n",
       "        vertical-align: middle;\n",
       "    }\n",
       "\n",
       "    .dataframe tbody tr th {\n",
       "        vertical-align: top;\n",
       "    }\n",
       "\n",
       "    .dataframe thead th {\n",
       "        text-align: right;\n",
       "    }\n",
       "</style>\n",
       "<table border=\"1\" class=\"dataframe\">\n",
       "  <thead>\n",
       "    <tr style=\"text-align: right;\">\n",
       "      <th></th>\n",
       "      <th>Package</th>\n",
       "      <th>Date</th>\n",
       "      <th>Low Price</th>\n",
       "      <th>High Price</th>\n",
       "    </tr>\n",
       "  </thead>\n",
       "  <tbody>\n",
       "    <tr>\n",
       "      <th>70</th>\n",
       "      <td>1 1/9 bushel cartons</td>\n",
       "      <td>9/24/16</td>\n",
       "      <td>15.0</td>\n",
       "      <td>15.0</td>\n",
       "    </tr>\n",
       "    <tr>\n",
       "      <th>71</th>\n",
       "      <td>1 1/9 bushel cartons</td>\n",
       "      <td>9/24/16</td>\n",
       "      <td>18.0</td>\n",
       "      <td>18.0</td>\n",
       "    </tr>\n",
       "    <tr>\n",
       "      <th>72</th>\n",
       "      <td>1 1/9 bushel cartons</td>\n",
       "      <td>10/1/16</td>\n",
       "      <td>18.0</td>\n",
       "      <td>18.0</td>\n",
       "    </tr>\n",
       "    <tr>\n",
       "      <th>73</th>\n",
       "      <td>1 1/9 bushel cartons</td>\n",
       "      <td>10/1/16</td>\n",
       "      <td>17.0</td>\n",
       "      <td>17.0</td>\n",
       "    </tr>\n",
       "    <tr>\n",
       "      <th>74</th>\n",
       "      <td>1 1/9 bushel cartons</td>\n",
       "      <td>10/8/16</td>\n",
       "      <td>15.0</td>\n",
       "      <td>15.0</td>\n",
       "    </tr>\n",
       "  </tbody>\n",
       "</table>\n",
       "</div>"
      ]
     },
     "execution_count": 3,
     "metadata": {},
     "output_type": "execute_result"
    }
   ],
   "execution_count": 3
  },
  {
   "metadata": {
    "ExecuteTime": {
     "end_time": "2025-05-11T14:58:27.004619Z",
     "start_time": "2025-05-11T14:58:26.987653Z"
    }
   },
   "cell_type": "code",
   "source": [
    "# Calculate average price from high and low price columns\n",
    "price = (pumpkins[\"Low Price\"] + pumpkins[\"High Price\"]) / 2\n",
    "\n",
    "# Extract month from Date column\n",
    "month = pd.DatetimeIndex(pumpkins[\"Date\"]).month\n",
    "\n",
    "# Create a new dataframe with desired columns\n",
    "new_pumpkins = pd.DataFrame({\"Month\": month, \"Package\": pumpkins[\"Package\"], \"Low Price\": pumpkins[\"Low Price\"],\n",
    "                             \"High Price\": pumpkins[\"High Price\"], })"
   ],
   "outputs": [],
   "execution_count": 4
  },
  {
   "metadata": {
    "ExecuteTime": {
     "end_time": "2025-05-11T14:58:27.279413Z",
     "start_time": "2025-05-11T14:58:27.264330Z"
    }
   },
   "cell_type": "code",
   "source": [
    "# Convert price of all cells by 1 1/9 bushel by dividing by 1 1/9\n",
    "new_pumpkins.loc[new_pumpkins[\"Package\"].str.contains(\"1 1/9\"), \"Price\"] = price/(10/9)\n",
    "\n",
    "# Convert price of all cells by 1/2 bushel by dividing by 1/2\n",
    "new_pumpkins.loc[new_pumpkins[\"Package\"].str.contains(\"1/2\"), \"Price\"] = price/(1/2)\n",
    "\n",
    "new_pumpkins.head()"
   ],
   "outputs": [
    {
     "data": {
      "text/plain": [
       "    Month               Package  Low Price  High Price  Price\n",
       "70      9  1 1/9 bushel cartons       15.0        15.0   13.5\n",
       "71      9  1 1/9 bushel cartons       18.0        18.0   16.2\n",
       "72     10  1 1/9 bushel cartons       18.0        18.0   16.2\n",
       "73     10  1 1/9 bushel cartons       17.0        17.0   15.3\n",
       "74     10  1 1/9 bushel cartons       15.0        15.0   13.5"
      ],
      "text/html": [
       "<div>\n",
       "<style scoped>\n",
       "    .dataframe tbody tr th:only-of-type {\n",
       "        vertical-align: middle;\n",
       "    }\n",
       "\n",
       "    .dataframe tbody tr th {\n",
       "        vertical-align: top;\n",
       "    }\n",
       "\n",
       "    .dataframe thead th {\n",
       "        text-align: right;\n",
       "    }\n",
       "</style>\n",
       "<table border=\"1\" class=\"dataframe\">\n",
       "  <thead>\n",
       "    <tr style=\"text-align: right;\">\n",
       "      <th></th>\n",
       "      <th>Month</th>\n",
       "      <th>Package</th>\n",
       "      <th>Low Price</th>\n",
       "      <th>High Price</th>\n",
       "      <th>Price</th>\n",
       "    </tr>\n",
       "  </thead>\n",
       "  <tbody>\n",
       "    <tr>\n",
       "      <th>70</th>\n",
       "      <td>9</td>\n",
       "      <td>1 1/9 bushel cartons</td>\n",
       "      <td>15.0</td>\n",
       "      <td>15.0</td>\n",
       "      <td>13.5</td>\n",
       "    </tr>\n",
       "    <tr>\n",
       "      <th>71</th>\n",
       "      <td>9</td>\n",
       "      <td>1 1/9 bushel cartons</td>\n",
       "      <td>18.0</td>\n",
       "      <td>18.0</td>\n",
       "      <td>16.2</td>\n",
       "    </tr>\n",
       "    <tr>\n",
       "      <th>72</th>\n",
       "      <td>10</td>\n",
       "      <td>1 1/9 bushel cartons</td>\n",
       "      <td>18.0</td>\n",
       "      <td>18.0</td>\n",
       "      <td>16.2</td>\n",
       "    </tr>\n",
       "    <tr>\n",
       "      <th>73</th>\n",
       "      <td>10</td>\n",
       "      <td>1 1/9 bushel cartons</td>\n",
       "      <td>17.0</td>\n",
       "      <td>17.0</td>\n",
       "      <td>15.3</td>\n",
       "    </tr>\n",
       "    <tr>\n",
       "      <th>74</th>\n",
       "      <td>10</td>\n",
       "      <td>1 1/9 bushel cartons</td>\n",
       "      <td>15.0</td>\n",
       "      <td>15.0</td>\n",
       "      <td>13.5</td>\n",
       "    </tr>\n",
       "  </tbody>\n",
       "</table>\n",
       "</div>"
      ]
     },
     "execution_count": 5,
     "metadata": {},
     "output_type": "execute_result"
    }
   ],
   "execution_count": 5
  },
  {
   "metadata": {
    "ExecuteTime": {
     "end_time": "2025-05-11T14:58:27.399172Z",
     "start_time": "2025-05-11T14:58:27.392830Z"
    }
   },
   "cell_type": "code",
   "source": "new_pumpkins.tail()",
   "outputs": [
    {
     "data": {
      "text/plain": [
       "      Month             Package  Low Price  High Price  Price\n",
       "1738      9  1/2 bushel cartons      15.00        15.0  30.00\n",
       "1739      9  1/2 bushel cartons      13.75        15.0  28.75\n",
       "1740      9  1/2 bushel cartons      10.75        15.0  25.75\n",
       "1741      9  1/2 bushel cartons      12.00        12.0  24.00\n",
       "1742      9  1/2 bushel cartons      12.00        12.0  24.00"
      ],
      "text/html": [
       "<div>\n",
       "<style scoped>\n",
       "    .dataframe tbody tr th:only-of-type {\n",
       "        vertical-align: middle;\n",
       "    }\n",
       "\n",
       "    .dataframe tbody tr th {\n",
       "        vertical-align: top;\n",
       "    }\n",
       "\n",
       "    .dataframe thead th {\n",
       "        text-align: right;\n",
       "    }\n",
       "</style>\n",
       "<table border=\"1\" class=\"dataframe\">\n",
       "  <thead>\n",
       "    <tr style=\"text-align: right;\">\n",
       "      <th></th>\n",
       "      <th>Month</th>\n",
       "      <th>Package</th>\n",
       "      <th>Low Price</th>\n",
       "      <th>High Price</th>\n",
       "      <th>Price</th>\n",
       "    </tr>\n",
       "  </thead>\n",
       "  <tbody>\n",
       "    <tr>\n",
       "      <th>1738</th>\n",
       "      <td>9</td>\n",
       "      <td>1/2 bushel cartons</td>\n",
       "      <td>15.00</td>\n",
       "      <td>15.0</td>\n",
       "      <td>30.00</td>\n",
       "    </tr>\n",
       "    <tr>\n",
       "      <th>1739</th>\n",
       "      <td>9</td>\n",
       "      <td>1/2 bushel cartons</td>\n",
       "      <td>13.75</td>\n",
       "      <td>15.0</td>\n",
       "      <td>28.75</td>\n",
       "    </tr>\n",
       "    <tr>\n",
       "      <th>1740</th>\n",
       "      <td>9</td>\n",
       "      <td>1/2 bushel cartons</td>\n",
       "      <td>10.75</td>\n",
       "      <td>15.0</td>\n",
       "      <td>25.75</td>\n",
       "    </tr>\n",
       "    <tr>\n",
       "      <th>1741</th>\n",
       "      <td>9</td>\n",
       "      <td>1/2 bushel cartons</td>\n",
       "      <td>12.00</td>\n",
       "      <td>12.0</td>\n",
       "      <td>24.00</td>\n",
       "    </tr>\n",
       "    <tr>\n",
       "      <th>1742</th>\n",
       "      <td>9</td>\n",
       "      <td>1/2 bushel cartons</td>\n",
       "      <td>12.00</td>\n",
       "      <td>12.0</td>\n",
       "      <td>24.00</td>\n",
       "    </tr>\n",
       "  </tbody>\n",
       "</table>\n",
       "</div>"
      ]
     },
     "execution_count": 6,
     "metadata": {},
     "output_type": "execute_result"
    }
   ],
   "execution_count": 6
  },
  {
   "metadata": {
    "ExecuteTime": {
     "end_time": "2025-05-11T14:58:37.707919Z",
     "start_time": "2025-05-11T14:58:37.705489Z"
    }
   },
   "cell_type": "code",
   "source": "import matplotlib.pyplot as plt",
   "outputs": [],
   "execution_count": 8
  },
  {
   "metadata": {
    "ExecuteTime": {
     "end_time": "2025-05-11T14:59:42.133629Z",
     "start_time": "2025-05-11T14:59:42.033641Z"
    }
   },
   "cell_type": "code",
   "source": [
    "price = new_pumpkins.Price\n",
    "month = new_pumpkins.Month\n",
    "plt.scatter(price,month)\n",
    "plt.show()"
   ],
   "outputs": [
    {
     "data": {
      "text/plain": [
       "<Figure size 640x480 with 1 Axes>"
      ],
      "image/png": "[encoded data removed]"
     },
     "metadata": {},
     "output_type": "display_data"
    }
   ],
   "execution_count": 9
  },
  {
   "metadata": {
    "ExecuteTime": {
     "end_time": "2025-05-11T15:01:57.384284Z",
     "start_time": "2025-05-11T15:01:57.293561Z"
    }
   },
   "cell_type": "code",
   "source": [
    "new_pumpkins.groupby([\"Month\"])[\"Price\"].mean().plot(kind=\"bar\")\n",
    "plt.ylabel(\"Pumpkin Price\")"
   ],
   "outputs": [
    {
     "data": {
      "text/plain": [
       "Text(0, 0.5, 'Pumpkin Price')"
      ]
     },
     "execution_count": 10,
     "metadata": {},
     "output_type": "execute_result"
    },
    {
     "data": {
      "text/plain": [
       "<Figure size 640x480 with 1 Axes>"
      ],
      "image/png": "[encoded data removed]"
     },
     "metadata": {},
     "output_type": "display_data"
    }
   ],
   "execution_count": 10
  }
 ]
}
